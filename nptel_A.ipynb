{
 "cells": [
  {
   "cell_type": "code",
   "execution_count": 15,
   "metadata": {},
   "outputs": [],
   "source": [
    "import pandas as pd\n",
    "import numpy as np\n",
    "import matplotlib.pyplot as plt\n",
    "import matplotlib\n",
    "from IPython.display import display,Latex"
   ]
  },
  {
   "cell_type": "code",
   "execution_count": 16,
   "metadata": {},
   "outputs": [],
   "source": [
    "data=pd.read_csv(\"nptel_a.csv\")"
   ]
  },
  {
   "cell_type": "code",
   "execution_count": 17,
   "metadata": {},
   "outputs": [],
   "source": [
    "class Perceptron:\n",
    "  \n",
    "  def __init__ (self):\n",
    "    self.w = None\n",
    "    self.b = None\n",
    "    \n",
    "  def model(self, x):\n",
    "    return 1 if (np.dot(self.w, x) >= self.b) else 0\n",
    "    \n",
    "  def predict(self, X):\n",
    "    Y = []\n",
    "    for x in X:\n",
    "      result = self.model(x)\n",
    "      Y.append(result)\n",
    "    return np.array(Y)\n",
    "    \n",
    "  def fit(self, X, Y, epochs = 1, lr = 1):\n",
    "    \n",
    "    self.w = np.ones(X.shape[1])\n",
    "    self.b = 0\n",
    "    \n",
    "    accuracy = {}\n",
    "    max_accuracy = 0\n",
    "    \n",
    "    wt_matrix = []\n",
    "    \n",
    "    for i in range(epochs):\n",
    "      for x, y in zip(X, Y):\n",
    "        y_pred = self.model(x)\n",
    "        if y == 1 and y_pred == 0:\n",
    "          self.w = self.w + lr * x\n",
    "          self.b = self.b - lr * 1\n",
    "        elif y == 0 and y_pred == 1:\n",
    "          self.w = self.w - lr * x\n",
    "          self.b = self.b + lr * 1\n",
    "          \n",
    "      wt_matrix.append(self.w)    \n",
    "          \n",
    "      accuracy[i] = accuracy_score(self.predict(X), Y)\n",
    "      if (accuracy[i] > max_accuracy):\n",
    "        max_accuracy = accuracy[i]\n",
    "        chkptw = self.w\n",
    "        chkptb = self.b\n",
    "        \n",
    "    self.w = chkptw\n",
    "    self.b = chkptb\n",
    "    return wt_matrix,self.b\n",
    "    #print(max_accuracy)\n",
    "    \n",
    "    \"\"\"plt.plot(np.array(list(accuracy.values())).astype(float))\n",
    "    plt.ylim([0, 1])\n",
    "    plt.show()\"\"\""
   ]
  },
  {
   "cell_type": "code",
   "execution_count": 18,
   "metadata": {},
   "outputs": [
    {
     "data": {
      "text/html": [
       "<div>\n",
       "<style scoped>\n",
       "    .dataframe tbody tr th:only-of-type {\n",
       "        vertical-align: middle;\n",
       "    }\n",
       "\n",
       "    .dataframe tbody tr th {\n",
       "        vertical-align: top;\n",
       "    }\n",
       "\n",
       "    .dataframe thead th {\n",
       "        text-align: right;\n",
       "    }\n",
       "</style>\n",
       "<table border=\"1\" class=\"dataframe\">\n",
       "  <thead>\n",
       "    <tr style=\"text-align: right;\">\n",
       "      <th></th>\n",
       "      <th>x1</th>\n",
       "      <th>x2</th>\n",
       "      <th>y</th>\n",
       "    </tr>\n",
       "  </thead>\n",
       "  <tbody>\n",
       "    <tr>\n",
       "      <th>0</th>\n",
       "      <td>1</td>\n",
       "      <td>1</td>\n",
       "      <td>1</td>\n",
       "    </tr>\n",
       "    <tr>\n",
       "      <th>1</th>\n",
       "      <td>1</td>\n",
       "      <td>2</td>\n",
       "      <td>1</td>\n",
       "    </tr>\n",
       "    <tr>\n",
       "      <th>2</th>\n",
       "      <td>1</td>\n",
       "      <td>4</td>\n",
       "      <td>1</td>\n",
       "    </tr>\n",
       "    <tr>\n",
       "      <th>3</th>\n",
       "      <td>2</td>\n",
       "      <td>2</td>\n",
       "      <td>1</td>\n",
       "    </tr>\n",
       "    <tr>\n",
       "      <th>4</th>\n",
       "      <td>2</td>\n",
       "      <td>4</td>\n",
       "      <td>0</td>\n",
       "    </tr>\n",
       "    <tr>\n",
       "      <th>5</th>\n",
       "      <td>3</td>\n",
       "      <td>1</td>\n",
       "      <td>1</td>\n",
       "    </tr>\n",
       "    <tr>\n",
       "      <th>6</th>\n",
       "      <td>3</td>\n",
       "      <td>3</td>\n",
       "      <td>0</td>\n",
       "    </tr>\n",
       "    <tr>\n",
       "      <th>7</th>\n",
       "      <td>4</td>\n",
       "      <td>1</td>\n",
       "      <td>0</td>\n",
       "    </tr>\n",
       "    <tr>\n",
       "      <th>8</th>\n",
       "      <td>4</td>\n",
       "      <td>4</td>\n",
       "      <td>0</td>\n",
       "    </tr>\n",
       "  </tbody>\n",
       "</table>\n",
       "</div>"
      ],
      "text/plain": [
       "   x1  x2  y\n",
       "0   1   1  1\n",
       "1   1   2  1\n",
       "2   1   4  1\n",
       "3   2   2  1\n",
       "4   2   4  0\n",
       "5   3   1  1\n",
       "6   3   3  0\n",
       "7   4   1  0\n",
       "8   4   4  0"
      ]
     },
     "execution_count": 18,
     "metadata": {},
     "output_type": "execute_result"
    }
   ],
   "source": [
    "data"
   ]
  },
  {
   "cell_type": "code",
   "execution_count": 19,
   "metadata": {},
   "outputs": [
    {
     "data": {
      "text/plain": [
       "(9, 2)"
      ]
     },
     "execution_count": 19,
     "metadata": {},
     "output_type": "execute_result"
    }
   ],
   "source": [
    "X_train=data.iloc[:,:2]\n",
    "Y_train=data.iloc[:,-1:]\n",
    "X_train.shape"
   ]
  },
  {
   "cell_type": "code",
   "execution_count": 20,
   "metadata": {},
   "outputs": [],
   "source": [
    "from sklearn.metrics import accuracy_score\n",
    "perceptron = Perceptron()"
   ]
  },
  {
   "cell_type": "code",
   "execution_count": 21,
   "metadata": {},
   "outputs": [],
   "source": [
    "wt_matrix,b = perceptron.fit(X_train.values, Y_train.values,epochs = 50, lr = 0.01)\n",
    "#perceptron.predict(X_test)"
   ]
  },
  {
   "cell_type": "code",
   "execution_count": 22,
   "metadata": {},
   "outputs": [
    {
     "name": "stdout",
     "output_type": "stream",
     "text": [
      "[-0.04 -0.03]\n"
     ]
    }
   ],
   "source": [
    "print(wt_matrix[-1])"
   ]
  },
  {
   "cell_type": "code",
   "execution_count": 23,
   "metadata": {},
   "outputs": [
    {
     "data": {
      "text/plain": [
       "array([1])"
      ]
     },
     "execution_count": 23,
     "metadata": {},
     "output_type": "execute_result"
    }
   ],
   "source": [
    "X_test=np.array([[3,2]])\n",
    "perceptron.predict(X_test)"
   ]
  },
  {
   "cell_type": "code",
   "execution_count": 24,
   "metadata": {},
   "outputs": [],
   "source": [
    "def slope_intercept(w,b):\n",
    "    m=-(w[0]/w[1])\n",
    "    c=b/w[1]\n",
    "    return (round(m,2),round(c,2))"
   ]
  },
  {
   "cell_type": "code",
   "execution_count": 25,
   "metadata": {},
   "outputs": [],
   "source": [
    "m,c=slope_intercept(wt_matrix[-1],b)"
   ]
  },
  {
   "cell_type": "code",
   "execution_count": 65,
   "metadata": {},
   "outputs": [],
   "source": [
    "\"\"\"fig, axs= plt.subplots(figsize=(4,4))\n",
    "#fig.subplots_adjust(hspace=0.4, wspace=0.4)\n",
    "\n",
    "x_axis=list(range(0,6))\n",
    "x_axis=np.array(x_axis)\n",
    "    \n",
    "axs.scatter(data['x1'],data['x2'],c=data['y'],s=200,cmap=matplotlib.colors.ListedColormap(['red','purple']))\n",
    "axs.scatter(3,2,s=200,color='yellow')\n",
    "axs.plot(x_axis,m*x_axis+c, '-r', color=\"blue\")\n",
    "plt.grid(True)\n",
    "plt.xlim(0,  5)\n",
    "plt.ylim(0,  5)\n",
    "\n",
    "plt.show()\"\"\";"
   ]
  },
  {
   "cell_type": "code",
   "execution_count": 66,
   "metadata": {},
   "outputs": [
    {
     "data": {
      "text/html": [
       "<div>\n",
       "<style scoped>\n",
       "    .dataframe tbody tr th:only-of-type {\n",
       "        vertical-align: middle;\n",
       "    }\n",
       "\n",
       "    .dataframe tbody tr th {\n",
       "        vertical-align: top;\n",
       "    }\n",
       "\n",
       "    .dataframe thead th {\n",
       "        text-align: right;\n",
       "    }\n",
       "</style>\n",
       "<table border=\"1\" class=\"dataframe\">\n",
       "  <thead>\n",
       "    <tr style=\"text-align: right;\">\n",
       "      <th></th>\n",
       "      <th>x1</th>\n",
       "      <th>x2</th>\n",
       "      <th>y</th>\n",
       "    </tr>\n",
       "  </thead>\n",
       "  <tbody>\n",
       "    <tr>\n",
       "      <th>0</th>\n",
       "      <td>1</td>\n",
       "      <td>1</td>\n",
       "      <td>1</td>\n",
       "    </tr>\n",
       "    <tr>\n",
       "      <th>1</th>\n",
       "      <td>1</td>\n",
       "      <td>2</td>\n",
       "      <td>1</td>\n",
       "    </tr>\n",
       "    <tr>\n",
       "      <th>2</th>\n",
       "      <td>1</td>\n",
       "      <td>4</td>\n",
       "      <td>1</td>\n",
       "    </tr>\n",
       "    <tr>\n",
       "      <th>3</th>\n",
       "      <td>2</td>\n",
       "      <td>2</td>\n",
       "      <td>1</td>\n",
       "    </tr>\n",
       "    <tr>\n",
       "      <th>5</th>\n",
       "      <td>3</td>\n",
       "      <td>1</td>\n",
       "      <td>1</td>\n",
       "    </tr>\n",
       "  </tbody>\n",
       "</table>\n",
       "</div>"
      ],
      "text/plain": [
       "   x1  x2  y\n",
       "0   1   1  1\n",
       "1   1   2  1\n",
       "2   1   4  1\n",
       "3   2   2  1\n",
       "5   3   1  1"
      ]
     },
     "execution_count": 66,
     "metadata": {},
     "output_type": "execute_result"
    }
   ],
   "source": [
    "data[data.y==1]"
   ]
  },
  {
   "cell_type": "code",
   "execution_count": 67,
   "metadata": {},
   "outputs": [
    {
     "data": {
      "image/png": "[encoded data removed]",
      "text/plain": [
       "<Figure size 288x288 with 1 Axes>"
      ]
     },
     "metadata": {
      "needs_background": "light"
     },
     "output_type": "display_data"
    }
   ],
   "source": [
    "fig, axs= plt.subplots(figsize=(4,4))\n",
    "#fig.subplots_adjust(hspace=0.4, wspace=0.4)\n",
    "\n",
    "x_axis=list(range(0,6))\n",
    "x_axis=np.array(x_axis)\n",
    "    \n",
    "axs.scatter(data[data.y==0]['x1'],data[data.y==0]['x2'],s=200,color='red',label='Class 1')\n",
    "axs.scatter(data[data.y==1]['x1'],data[data.y==1]['x2'],s=200,color='purple',label='Class 2')\n",
    "axs.scatter(3,2,s=200,color='yellow')\n",
    "axs.plot(x_axis,m*x_axis+c, '-r', color=\"blue\")\n",
    "plt.grid(True)\n",
    "plt.xlim(0,  5)\n",
    "plt.ylim(0,  5)\n",
    "plt.legend(loc=(1.01, 0.85))\n",
    "plt.show()"
   ]
  },
  {
   "cell_type": "code",
   "execution_count": null,
   "metadata": {},
   "outputs": [],
   "source": []
  }
 ],
 "metadata": {
  "kernelspec": {
   "display_name": "Python 3",
   "language": "python",
   "name": "python3"
  },
  "language_info": {
   "codemirror_mode": {
    "name": "ipython",
    "version": 3
   },
   "file_extension": ".py",
   "mimetype": "text/x-python",
   "name": "python",
   "nbconvert_exporter": "python",
   "pygments_lexer": "ipython3",
   "version": "3.8.3"
  }
 },
 "nbformat": 4,
 "nbformat_minor": 2
}
