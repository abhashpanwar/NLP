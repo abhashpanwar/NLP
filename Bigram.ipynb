{
 "cells": [
  {
   "cell_type": "code",
   "execution_count": 89,
   "metadata": {},
   "outputs": [],
   "source": [
    "#This code may have snippets taken from the Internet\n",
    "import nltk\n",
    "from nltk import bigrams\n",
    "\n",
    "import matplotlib.pyplot as plt; plt.rcdefaults()\n",
    "import numpy as np\n",
    "\n",
    "import collections\n",
    "from collections import Counter\n",
    "from nltk.corpus.reader.plaintext import PlaintextCorpusReader\n",
    "\n",
    "corpusdir = 'corpus/'  # point to the Directory of corpus.\n",
    "your_corpus = PlaintextCorpusReader(corpusdir, '.*')"
   ]
  },
  {
   "cell_type": "code",
   "execution_count": 90,
   "metadata": {},
   "outputs": [
    {
     "data": {
      "text/plain": [
       "[['An', 'airplane', 'accelerates', 'down', 'a', 'runway', 'at', '3', '.', '20', 'm', '/', 's2', 'for', '32', '.', '8', 's', 'until', 'is', 'finally', 'lifts', 'off', 'the', 'ground', '.'], ['Determine', 'the', 'distance', 'traveled', 'before', 'takeoff', '.'], ...]"
      ]
     },
     "execution_count": 90,
     "metadata": {},
     "output_type": "execute_result"
    }
   ],
   "source": [
    "your_corpus.sents()"
   ]
  },
  {
   "cell_type": "code",
   "execution_count": 91,
   "metadata": {},
   "outputs": [],
   "source": [
    "#compute the bigram model\n",
    "def build_bigram_model():\n",
    "    bigram_model = collections.defaultdict(lambda: collections.defaultdict(lambda: 0))\n",
    "    for sentence in your_corpus.sents():\n",
    "        sentence = [word.lower() for word in sentence if word.isalpha()]  # get alpha only\n",
    "        \n",
    "        #Collect all bigrams counts for (w1,w2)\n",
    "        for w1, w2 in bigrams(sentence):\n",
    "            bigram_model[w1][w2] += 1\n",
    "            \n",
    "        #compute the probability for the bigram starting with w1\n",
    "        for w1 in bigram_model:\n",
    "            #total count of bigrams starting with w1\n",
    "            bigram_count_4_w1 = float(sum(bigram_model[w1].values()))\n",
    "            #distribute the probability mass for all bigrams starting with w1\n",
    "            for w2 in bigram_model[w1]:\n",
    "                bigram_model[w1][w2] /= bigram_count_4_w1\n",
    "    return bigram_model"
   ]
  },
  {
   "cell_type": "code",
   "execution_count": 92,
   "metadata": {},
   "outputs": [
    {
     "name": "stdout",
     "output_type": "stream",
     "text": [
      "far\n"
     ]
    }
   ],
   "source": [
    "model=build_bigram_model()\n",
    "second_word=model['how']\n",
    "print(list(second_word.keys())[0])"
   ]
  },
  {
   "cell_type": "code",
   "execution_count": 93,
   "metadata": {},
   "outputs": [
    {
     "name": "stdout",
     "output_type": "stream",
     "text": [
      "[('far', 0.5628668144533753), ('long', 0.26565957263477835), ('fast', 0.16799166845157743), ('tall', 0.001955091953277588), ('high', 0.0009765637999710939), ('much', 0.0005502887070202716), ('does', 5.139921410301658e-19), ('many', 5.019455100613327e-22)]\n"
     ]
    }
   ],
   "source": [
    "top10words=Counter(second_word).most_common(10)\n",
    "print(top10words)"
   ]
  },
  {
   "cell_type": "code",
   "execution_count": 94,
   "metadata": {},
   "outputs": [
    {
     "data": {
      "text/plain": [
       "[('far', 'long', 'fast', 'tall', 'high', 'much', 'does', 'many'),\n",
       " (0.5628668144533753,\n",
       "  0.26565957263477835,\n",
       "  0.16799166845157743,\n",
       "  0.001955091953277588,\n",
       "  0.0009765637999710939,\n",
       "  0.0005502887070202716,\n",
       "  5.139921410301658e-19,\n",
       "  5.019455100613327e-22)]"
      ]
     },
     "execution_count": 94,
     "metadata": {},
     "output_type": "execute_result"
    }
   ],
   "source": [
    "list(zip(*top10words))"
   ]
  },
  {
   "cell_type": "code",
   "execution_count": 95,
   "metadata": {},
   "outputs": [
    {
     "data": {
      "image/png": "[encoded data removed]",
      "text/plain": [
       "<Figure size 640x480 with 1 Axes>"
      ]
     },
     "metadata": {},
     "output_type": "display_data"
    }
   ],
   "source": [
    "def predict_next_word(first_word):\n",
    "    #buikd the model\n",
    "    model = build_bigram_model()\n",
    "    #get the next for the bigram starting with 'word'\n",
    "    second_word = model[first_word]\n",
    "    #get the top 10 words whose first word is 'first_word'\n",
    "    top10words = Counter(second_word).most_common(10)\n",
    "\n",
    "\n",
    "    predicted_words = list(zip(*top10words))[0]\n",
    "    probability_score = list(zip(*top10words))[1]\n",
    "    x_pos = np.arange(len(predicted_words))\n",
    "\n",
    "    # calculate slope and intercept for the linear trend line\n",
    "    slope, intercept = np.polyfit(x_pos, probability_score, 1)\n",
    "\n",
    "    plt.bar(x_pos, probability_score,align='center')\n",
    "    plt.xticks(x_pos, predicted_words)\n",
    "    plt.ylabel('Probability Score')\n",
    "    plt.xlabel('Predicted Words')\n",
    "    plt.title('Predicted words for ' + first_word)\n",
    "    plt.show()\n",
    "\n",
    "predict_next_word('how')"
   ]
  },
  {
   "cell_type": "markdown",
   "metadata": {},
   "source": [
    "# Predicting Next Few words"
   ]
  },
  {
   "cell_type": "code",
   "execution_count": 103,
   "metadata": {},
   "outputs": [],
   "source": [
    "model = build_bigram_model()"
   ]
  },
  {
   "cell_type": "code",
   "execution_count": 104,
   "metadata": {},
   "outputs": [
    {
     "name": "stdout",
     "output_type": "stream",
     "text": [
      "far\n"
     ]
    }
   ],
   "source": [
    "second_word=model['how']\n",
    "print(sorted(second_word.items(), key = lambda kv:(kv[1], kv[0]))[-1][0])"
   ]
  },
  {
   "cell_type": "code",
   "execution_count": 105,
   "metadata": {},
   "outputs": [
    {
     "name": "stdout",
     "output_type": "stream",
     "text": [
      "how far did the ball has rolled at the ball has rolled at the ball has\n"
     ]
    }
   ],
   "source": [
    "start='how'\n",
    "final='how'\n",
    "for i in range(15):\n",
    "    second_word=model[start]\n",
    "    second_word=sorted(second_word.items(), key = lambda kv:(kv[1], kv[0]))[-1][0]\n",
    "    final=final+\" \"+second_word\n",
    "    start=second_word\n",
    "print(final)    "
   ]
  },
  {
   "cell_type": "code",
   "execution_count": null,
   "metadata": {},
   "outputs": [],
   "source": []
  }
 ],
 "metadata": {
  "kernelspec": {
   "display_name": "Python 3.8.3 64-bit ('base': conda)",
   "language": "python",
   "name": "python38364bitbaseconda14573fd2ccc84d04813e3b8f229a0662"
  },
  "language_info": {
   "codemirror_mode": {
    "name": "ipython",
    "version": 3
   },
   "file_extension": ".py",
   "mimetype": "text/x-python",
   "name": "python",
   "nbconvert_exporter": "python",
   "pygments_lexer": "ipython3",
   "version": "3.8.3"
  }
 },
 "nbformat": 4,
 "nbformat_minor": 4
}
